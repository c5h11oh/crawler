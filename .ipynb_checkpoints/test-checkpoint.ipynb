{
 "cells": [
  {
   "cell_type": "code",
   "execution_count": 1,
   "id": "efficient-mercury",
   "metadata": {},
   "outputs": [],
   "source": [
    "root = 'https://pages.cs.wisc.edu/~remzi/links/'"
   ]
  },
  {
   "cell_type": "code",
   "execution_count": 7,
   "id": "foreign-peace",
   "metadata": {},
   "outputs": [],
   "source": [
    "file = root.replace(':', '_').replace('/', '_').replace('~', '_')"
   ]
  },
  {
   "cell_type": "code",
   "execution_count": 8,
   "id": "closing-witch",
   "metadata": {
    "scrolled": true
   },
   "outputs": [
    {
     "name": "stdout",
     "output_type": "stream",
     "text": [
      "root = https://pages.cs.wisc.edu/~remzi/links/\n",
      "file = https___pages.cs.wisc.edu__remzi_links_\n"
     ]
    }
   ],
   "source": [
    "print('root = ' + root)\n",
    "print('file = ' + file)"
   ]
  }
 ],
 "metadata": {
  "kernelspec": {
   "display_name": "Python 3",
   "language": "python",
   "name": "python3"
  },
  "language_info": {
   "codemirror_mode": {
    "name": "ipython",
    "version": 3
   },
   "file_extension": ".py",
   "mimetype": "text/x-python",
   "name": "python",
   "nbconvert_exporter": "python",
   "pygments_lexer": "ipython3",
   "version": "3.8.5"
  }
 },
 "nbformat": 4,
 "nbformat_minor": 5
}
